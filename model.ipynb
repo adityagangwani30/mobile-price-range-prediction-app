{
 "cells": [
  {
   "cell_type": "code",
   "execution_count": null,
   "id": "67306edd",
   "metadata": {},
   "outputs": [],
   "source": [
    "import pandas as pd\n",
    "from sklearn.ensemble import RandomForestClassifier"
   ]
  },
  {
   "cell_type": "code",
   "execution_count": null,
   "id": "b34ec831",
   "metadata": {},
   "outputs": [],
   "source": [
    "# Load the datasets\n",
    "train_df = pd.read_csv('train.csv')\n",
    "test_df = pd.read_csv('test.csv')\n",
    "\n",
    "# Prepare training data\n",
    "X_train = train_df.drop('price_range', axis=1)\n",
    "y_train = train_df['price_range']\n",
    "\n",
    "# Prepare test data (drop 'id' if it exists)\n",
    "X_test = test_df.drop('id', axis=1, errors='ignore')"
   ]
  },
  {
   "cell_type": "code",
   "execution_count": null,
   "id": "26cd1f31",
   "metadata": {},
   "outputs": [],
   "source": [
    "# Create the model instance\n",
    "# n_estimators is the number of trees in the forest\n",
    "model = RandomForestClassifier(n_estimators=100, random_state=42)\n",
    "\n",
    "# Train the model on the entire training data\n",
    "model.fit(X_train, y_train)"
   ]
  },
  {
   "cell_type": "code",
   "execution_count": null,
   "id": "8667c5f6",
   "metadata": {},
   "outputs": [],
   "source": [
    "# Predict the classes for the test set\n",
    "predictions = model.predict(X_test)\n",
    "\n",
    "# 'predictions' is now an array of predicted price ranges (0, 1, 2, or 3)\n",
    "print(predictions)\n",
    "\n",
    "# You can add these predictions to your test dataframe to see them alongside the features\n",
    "test_df['predicted_price_range'] = predictions\n",
    "print(test_df.head())"
   ]
  },
  {
   "cell_type": "code",
   "execution_count": 10,
   "id": "aed917d8",
   "metadata": {},
   "outputs": [
    {
     "data": {
      "text/plain": [
       "['model.joblib']"
      ]
     },
     "execution_count": 10,
     "metadata": {},
     "output_type": "execute_result"
    }
   ],
   "source": [
    "import joblib\n",
    "\n",
    "# Assuming 'model' is your trained RandomForestClassifier\n",
    "joblib.dump(model, 'model.joblib')"
   ]
  }
 ],
 "metadata": {
  "kernelspec": {
   "display_name": "Python 3",
   "language": "python",
   "name": "python3"
  },
  "language_info": {
   "codemirror_mode": {
    "name": "ipython",
    "version": 3
   },
   "file_extension": ".py",
   "mimetype": "text/x-python",
   "name": "python",
   "nbconvert_exporter": "python",
   "pygments_lexer": "ipython3",
   "version": "3.13.5"
  }
 },
 "nbformat": 4,
 "nbformat_minor": 5
}
